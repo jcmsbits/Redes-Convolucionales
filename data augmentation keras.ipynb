{
 "cells": [
  {
   "cell_type": "code",
   "execution_count": null,
   "metadata": {},
   "outputs": [],
   "source": [
    "from tensorflow.keras.preprocessing.image import (ImageDataGenerator, array_to_img, img_to_array, load_img)\n",
    "import matplotlib.pyplot as plt"
   ]
  },
  {
   "cell_type": "markdown",
   "metadata": {},
   "source": [
    "Con ImageDataGenerator podemos generar más imágenes a partir de un conjunto de ellas.\n",
    "Con rotation_range = 40 se obtiene la misma imagen pero con una rotación de 40 grados\n",
    "Con fill_mode = 'nearest' rellena los pixeles negros por píxeles más cercanos\n",
    "Con fill_mode = 'reflect' rellena los píxeles negros con la imagen al reves que hace como un reflejo\n",
    "Con fill_mode = 'wrap' que hace como una tira consecutiva de la imagen para rellenar los espacios negros\n",
    "Con width_shift_range y heigth_shift_range desplaza la imagen ya sea en el ancho o en el alto\n",
    "Con brigthness_range le agregamos brillo"
   ]
  },
  {
   "cell_type": "code",
   "execution_count": null,
   "metadata": {},
   "outputs": [],
   "source": [
    "datagen = ImageDataGenerator(\n",
    "    rotation_range = 40,\n",
    "    width_shift_range = 0.2,\n",
    "    zoom_range = 0.2,\n",
    "    horizontal_flip = True,\n",
    "    fill_mode = 'nearest',\n",
    "    brigthness_range = [0.4,1.5]\n",
    ")"
   ]
  },
  {
   "cell_type": "code",
   "execution_count": null,
   "metadata": {},
   "outputs": [],
   "source": [
    "img =  load_img('../input/cnn-data-sources/Mara.jpeg')\n",
    "x = img_to_array(img)\n",
    "print(x.shape)\n",
    "x = x.reshape((1,) + x.shape)\n",
    "print(x.shape)"
   ]
  },
  {
   "cell_type": "code",
   "execution_count": null,
   "metadata": {},
   "outputs": [],
   "source": [
    "i = 0\n",
    "for batch in datagen.flow(x, batch_size = 1):\n",
    "    plt.figure(i)\n",
    "    imgplot = plt.imshow(array_to_img(batch[0]))\n",
    "    i += 1\n",
    "    if i % 10 == 0:\n",
    "        break\n",
    "\n",
    "plt.show()"
   ]
  },
  {
   "cell_type": "markdown",
   "metadata": {},
   "source": [
    "Para hacer data augmentation desde un directorio usamos flow_from_directory\n",
    "Le especificamos la dimensión de la salida con target_size, en este caso 150 x 150 (largo x ancho)\n",
    "En batch_size la cantidad imagenes por cada una\n",
    "Y class_mode para saber la cantidad de classes que tiene los datos de entrenamiento, en este caso es de tipo binary porque tiene gatos y perros"
   ]
  },
  {
   "cell_type": "code",
   "execution_count": null,
   "metadata": {},
   "outputs": [],
   "source": [
    "train_generator = datagen.flow_from_directory(\n",
    "            '../input/cnn-data-sources/cats_and_dogs/train',\n",
    "            target_size = (150,150),\n",
    "            batch_size = 32,\n",
    "            class_mode = 'binary'\n",
    "                                              )"
   ]
  },
  {
   "cell_type": "code",
   "execution_count": null,
   "metadata": {},
   "outputs": [],
   "source": [
    "train_generator[0][0].shape"
   ]
  },
  {
   "cell_type": "code",
   "execution_count": null,
   "metadata": {},
   "outputs": [],
   "source": [
    "train_generator[0][0][1]"
   ]
  }
 ],
 "metadata": {
  "language_info": {
   "name": "python"
  }
 },
 "nbformat": 4,
 "nbformat_minor": 2
}
